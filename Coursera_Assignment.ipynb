{
 "cells": [
  {
   "cell_type": "code",
   "execution_count": 1,
   "metadata": {
    "collapsed": true
   },
   "outputs": [],
   "source": [
    "from sklearn.linear_model import LinearRegression\n",
    "import numpy as np\n",
    "import copy\n",
    "\n",
    "%matplotlib inline\n",
    "import matplotlib.pyplot as plt\n",
    "\n"
   ]
  },
  {
   "cell_type": "code",
   "execution_count": 2,
   "metadata": {
    "collapsed": false
   },
   "outputs": [
    {
     "data": {
      "text/plain": [
       "[1, 11, 5.0, 28.33333333]"
      ]
     },
     "execution_count": 2,
     "metadata": {},
     "output_type": "execute_result"
    },
    {
     "data": {
      "image/png": "[encoded data removed]",
      "text/plain": [
       "<matplotlib.figure.Figure at 0x1f1b410>"
      ]
     },
     "metadata": {},
     "output_type": "display_data"
    }
   ],
   "source": [
    "tmp_l = np.array([ 5.        ,  9.        , 13.        , 16.66666667, 19.83333333,\n",
    "       22.5       , 24.66666667, 26.33333333, 27.5       , 28.16666667,\n",
    "       28.33333333])\n",
    "tmp_l2 = [ele+1 for ele in range(len(tmp_l))]\n",
    "\n",
    "plt.plot(tmp_l2, tmp_l)\n",
    "plt.xlabel('Tester #')\n",
    "plt.ylabel('Cummulative bugs')\n",
    "plt.axis([1,len(tmp_l2),np.min(tmp_l), np.max(tmp_l)])\n"
   ]
  },
  {
   "cell_type": "code",
   "execution_count": 3,
   "metadata": {
    "collapsed": false
   },
   "outputs": [
    {
     "ename": "SyntaxError",
     "evalue": "invalid syntax (<ipython-input-3-572e5e7f543e>, line 1)",
     "output_type": "error",
     "traceback": [
      "\u001b[0;36m  File \u001b[0;32m\"<ipython-input-3-572e5e7f543e>\"\u001b[0;36m, line \u001b[0;32m1\u001b[0m\n\u001b[0;31m    1. Figure shows the num of cummulative bugs reported by testers. The figure converges to a value (total num of bugs) as we\u001b[0m\n\u001b[0m            ^\u001b[0m\n\u001b[0;31mSyntaxError\u001b[0m\u001b[0;31m:\u001b[0m invalid syntax\n"
     ]
    }
   ],
   "source": [
    "1. Figure shows the num of cummulative bugs reported by testers. The figure converges to a value (total num of bugs) as we \n",
    "   keep increasing the num of testers\n",
    "    \n",
    "2. I am assuming the graph of cummulative bugs vs Tester # (or the reporting step) as above (i.e with a decreasing slope/gradient)\n",
    "   , i.e. as we go from tester num n to tester n+1 the num of new bugs the tester adds to the existing set of bugs decreases. \n",
    "    Hence the slope of the curve decreases\n",
    "    \n",
    "3. Let num of bugs = ni*x1+n2*x2+n3*x3..... where n1, n2, n3... are the num of bugs reported by tester 1,2,3....and x1,x2,x3 are\n",
    "   the ratio of n1,n2,n3 they add to the existing set of bugs. The value of x1 would always be one. \n",
    "   Let's say If we have inputs from 2 testers ['a','b','c','d'], ['a','b','e','f'] we know the value of x1=1 and x2 = 2/4 \n",
    "   since only bugs 'e' and 'f' are added (out of the 4 bugs reported by tester 2) to the existing set (already reported by \n",
    "   tester 1)\n",
    "    \n",
    "4. Now since we know value of x1 and x2 , we can fit a line to estimate x3, x4... as a fn of reporting step or tester #\n",
    "   and see when does that line meet zero. When it meets zero that means that many testers are required to report all the bugs.\n",
    "   Let's say that number comes out to be 10..for the remaining 8 testers we can assume the num of bugs reported i.e. n3,n4..\n",
    "   are all same and equal to the mean of n1 and n2. Now we know the value of n1,n2,n3...n10 and x1,x2,....x10. We can calculate\n",
    "   the total num of bugs (= n1*x1+n2*x2+...n10*x10)\n",
    "\n",
    "5. if the list of reported bugs is ['a','b','c','d'], ['g','h','e','f'] i.e. x1=1 and x2=1 then user needs\n",
    "   to give a value of total num of testers, default value is 1000. This means it will take 1000 testers to report all the bugs, \n",
    "   and then the values of x3,x4 .... can be found out from the line which passes through (1,1) and (1000,0)\n",
    "\n",
    "    "
   ]
  },
  {
   "cell_type": "code",
   "execution_count": 4,
   "metadata": {
    "collapsed": true
   },
   "outputs": [],
   "source": [
    "class Num_Bugs:\n",
    "    \n",
    "    def __init__(self,max_steps, bug_listoflists ):\n",
    "        \n",
    "        self.max_steps = max_steps\n",
    "        self.bugs = bug_listoflists\n",
    "\n",
    "    def get_fraction_increment(self, list_of_lists):\n",
    "\n",
    "        frac_list = []    \n",
    "        list_n = []\n",
    "        union_n_min_1 = []\n",
    "\n",
    "        for i, ele in enumerate(list_of_lists):\n",
    "\n",
    "\n",
    "                list_n += ele\n",
    "\n",
    "                union_n = np.unique(list_n).tolist()\n",
    "\n",
    "                frac = (1.*(len(union_n)-len(union_n_min_1)))/len(ele)\n",
    "\n",
    "                union_n_min_1 = copy.deepcopy(union_n)\n",
    "\n",
    "                frac_list.append(frac)\n",
    "\n",
    "        return frac_list\n",
    "\n",
    "\n",
    "    def get_total_bugs(self):\n",
    "\n",
    "\n",
    "        frac_arr = self.get_fraction_increment(self.bugs)\n",
    "        reporting_steps = [i+1 for i in range(len(self.bugs))]\n",
    "        max_rep_step = np.max(reporting_steps)\n",
    "        fit_line = LinearRegression()\n",
    "        X  = np.array(reporting_steps).reshape(-1,1)\n",
    "        Y = frac_arr\n",
    "        fit_line.fit(X,Y)\n",
    "        slope = fit_line.coef_[0]\n",
    "        y_intercept = fit_line.intercept_\n",
    "\n",
    "        if slope >= 0:\n",
    "            slope = ((0-1)*1.)/(self.max_steps-1)\n",
    "\n",
    "        x_intercept = int(round(((-1)*y_intercept)/slope,0))\n",
    "        length_l = [len(ele) for ele in bugs]\n",
    "        mean = int(round(np.mean(length_l),0))\n",
    "        if len(length_l) < x_intercept:\n",
    "            diff = x_intercept - len(length_l)\n",
    "            for i in range(diff):\n",
    "                length_l.append(mean)\n",
    "                tmp_ele = (slope*1.*(max_rep_step+(i+1)))+y_intercept\n",
    "                if tmp_ele<0:\n",
    "                    tmp_ele=0\n",
    "                frac_arr.append(tmp_ele)\n",
    "\n",
    "        Num_bugs = np.sum(np.array(length_l)*np.array(frac_arr))\n",
    "        cum_sum_num_bugs = np.array(length_l)*np.array(frac_arr)\n",
    "        cum_sum_num_bugs = cum_sum_num_bugs.cumsum()\n",
    "        num_steps = [i+1 for i in range(len(cum_sum_num_bugs))]\n",
    "\n",
    "        return Num_bugs, cum_sum_num_bugs, num_steps, frac_arr\n",
    "\n"
   ]
  },
  {
   "cell_type": "code",
   "execution_count": 5,
   "metadata": {
    "collapsed": true
   },
   "outputs": [],
   "source": [
    "max_steps = 1000\n",
    "bugs = [['a','b','c','d','l'],['h','g','e','f'],['x','y','z','a','o']]\n",
    "\n",
    "numbugs_cl = Num_Bugs(max_steps, bugs)\n",
    "Num_bugs, cum_sum_num_bugs, num_steps, frac_arr = numbugs_cl.get_total_bugs()\n",
    "\n"
   ]
  },
  {
   "cell_type": "code",
   "execution_count": 8,
   "metadata": {
    "collapsed": false
   },
   "outputs": [
    {
     "name": "stdout",
     "output_type": "stream",
     "text": [
      "total num of bugs is :  28.333333333333336\n"
     ]
    }
   ],
   "source": [
    "print 'total num of bugs is : ',Num_bugs"
   ]
  },
  {
   "cell_type": "code",
   "execution_count": 6,
   "metadata": {
    "collapsed": false
   },
   "outputs": [
    {
     "data": {
      "text/plain": [
       "[1, 11, 0, 1.1]"
      ]
     },
     "execution_count": 6,
     "metadata": {},
     "output_type": "execute_result"
    },
    {
     "data": {
      "image/png": "[encoded data removed]",
      "text/plain": [
       "<matplotlib.figure.Figure at 0x43af710>"
      ]
     },
     "metadata": {},
     "output_type": "display_data"
    }
   ],
   "source": [
    "plt.plot(num_steps, frac_arr)\n",
    "plt.xlabel('Tester #')\n",
    "plt.ylabel('bugs not reported yet / total bugs reported by tester')\n",
    "plt.axis([1,len(num_steps),0,1.1])\n"
   ]
  },
  {
   "cell_type": "code",
   "execution_count": 7,
   "metadata": {
    "collapsed": false
   },
   "outputs": [
    {
     "data": {
      "text/plain": [
       "[1, 11, 5.0, 28.333333333333343]"
      ]
     },
     "execution_count": 7,
     "metadata": {},
     "output_type": "execute_result"
    },
    {
     "data": {
      "image/png": "[encoded data removed]",
      "text/plain": [
       "<matplotlib.figure.Figure at 0x4547090>"
      ]
     },
     "metadata": {},
     "output_type": "display_data"
    }
   ],
   "source": [
    "plt.plot(num_steps, cum_sum_num_bugs)\n",
    "plt.xlabel('Tester #')\n",
    "plt.ylabel('Cummulative bugs')\n",
    "plt.axis([1,len(num_steps),np.min(cum_sum_num_bugs), np.max(cum_sum_num_bugs)])\n"
   ]
  },
  {
   "cell_type": "code",
   "execution_count": null,
   "metadata": {
    "collapsed": true
   },
   "outputs": [],
   "source": []
  }
 ],
 "metadata": {
  "kernelspec": {
   "display_name": "Python 2",
   "language": "python",
   "name": "python2"
  },
  "language_info": {
   "codemirror_mode": {
    "name": "ipython",
    "version": 2
   },
   "file_extension": ".py",
   "mimetype": "text/x-python",
   "name": "python",
   "nbconvert_exporter": "python",
   "pygments_lexer": "ipython2",
   "version": "2.7.5"
  }
 },
 "nbformat": 4,
 "nbformat_minor": 1
}
